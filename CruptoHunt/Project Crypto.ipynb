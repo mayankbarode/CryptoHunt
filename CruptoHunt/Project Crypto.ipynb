{
 "cells": [
  {
   "cell_type": "code",
   "execution_count": 2,
   "metadata": {
    "id": "NeWVBhf1VxlH"
   },
   "outputs": [],
   "source": [
    "import json\n",
    "import requests\n",
    "from keras.models import Sequential\n",
    "from keras.layers import Activation, Dense, Dropout, LSTM\n",
    "import matplotlib.pyplot as plt\n",
    "import numpy as np\n",
    "import pandas as pd\n",
    "import seaborn as sns\n",
    "import pickle\n",
    "from sklearn.metrics import mean_absolute_error\n",
    "%matplotlib inline"
   ]
  },
  {
   "cell_type": "code",
   "execution_count": 3,
   "metadata": {
    "_cell_guid": "79c7e3d0-c299-4dcb-8224-4455121ee9b0",
    "_uuid": "d629ff2d2480ee46fbb7e2d37f6b5fab8052498a",
    "id": "6W__OM92pskF"
   },
   "outputs": [],
   "source": [
    "endpoint = 'https://min-api.cryptocompare.com/data/histoday'\n",
    "res = requests.get(endpoint + '?fsym=MATIC&tsym=USDT&limit=500')\n",
    "hist = pd.DataFrame(json.loads(res.content)['Data'])\n",
    "hist = hist.set_index('time')\n",
    "hist.index = pd.to_datetime(hist.index, unit='s')\n",
    "\n",
    "target_col = 'close'\n",
    "\n"
   ]
  },
  {
   "cell_type": "code",
   "execution_count": 4,
   "metadata": {},
   "outputs": [],
   "source": [
    "endpoint1 = 'https://min-api.cryptocompare.com/data/histoday'\n",
    "res1 = requests.get(endpoint1 + '?fsym=SOL&tsym=USDT&limit=500')\n",
    "hist1 = pd.DataFrame(json.loads(res1.content)['Data'])\n",
    "hist1 = hist1.set_index('time')\n",
    "hist1.index = pd.to_datetime(hist1.index, unit='s')\n",
    "target_col1 = 'close'"
   ]
  },
  {
   "cell_type": "code",
   "execution_count": 5,
   "metadata": {
    "id": "IJ81oAj4sw6x"
   },
   "outputs": [],
   "source": [
    "hist.drop([\"conversionType\", \"conversionSymbol\"], axis = 'columns', inplace = True)"
   ]
  },
  {
   "cell_type": "code",
   "execution_count": 6,
   "metadata": {},
   "outputs": [],
   "source": [
    "hist1.drop([\"conversionType\", \"conversionSymbol\"], axis = 'columns', inplace = True)"
   ]
  },
  {
   "cell_type": "code",
   "execution_count": 7,
   "metadata": {
    "colab": {
     "base_uri": "https://localhost:8080/",
     "height": 235
    },
    "id": "QQ9tRh3fs6wX",
    "outputId": "5ad8641b-9d99-49c8-e6d4-a927d5a1d84e"
   },
   "outputs": [
    {
     "data": {
      "text/html": [
       "<div>\n",
       "<style scoped>\n",
       "    .dataframe tbody tr th:only-of-type {\n",
       "        vertical-align: middle;\n",
       "    }\n",
       "\n",
       "    .dataframe tbody tr th {\n",
       "        vertical-align: top;\n",
       "    }\n",
       "\n",
       "    .dataframe thead th {\n",
       "        text-align: right;\n",
       "    }\n",
       "</style>\n",
       "<table border=\"1\" class=\"dataframe\">\n",
       "  <thead>\n",
       "    <tr style=\"text-align: right;\">\n",
       "      <th></th>\n",
       "      <th>high</th>\n",
       "      <th>low</th>\n",
       "      <th>open</th>\n",
       "      <th>volumefrom</th>\n",
       "      <th>volumeto</th>\n",
       "      <th>close</th>\n",
       "    </tr>\n",
       "    <tr>\n",
       "      <th>time</th>\n",
       "      <th></th>\n",
       "      <th></th>\n",
       "      <th></th>\n",
       "      <th></th>\n",
       "      <th></th>\n",
       "      <th></th>\n",
       "    </tr>\n",
       "  </thead>\n",
       "  <tbody>\n",
       "    <tr>\n",
       "      <th>2022-06-04</th>\n",
       "      <td>0.6001</td>\n",
       "      <td>0.5764</td>\n",
       "      <td>0.5891</td>\n",
       "      <td>6.237382e+07</td>\n",
       "      <td>36864683.10</td>\n",
       "      <td>0.5961</td>\n",
       "    </tr>\n",
       "    <tr>\n",
       "      <th>2022-06-05</th>\n",
       "      <td>0.6070</td>\n",
       "      <td>0.5842</td>\n",
       "      <td>0.5961</td>\n",
       "      <td>7.279023e+07</td>\n",
       "      <td>43266315.69</td>\n",
       "      <td>0.5979</td>\n",
       "    </tr>\n",
       "    <tr>\n",
       "      <th>2022-06-06</th>\n",
       "      <td>0.6558</td>\n",
       "      <td>0.5961</td>\n",
       "      <td>0.5979</td>\n",
       "      <td>1.486834e+08</td>\n",
       "      <td>94432946.02</td>\n",
       "      <td>0.6328</td>\n",
       "    </tr>\n",
       "    <tr>\n",
       "      <th>2022-06-07</th>\n",
       "      <td>0.6335</td>\n",
       "      <td>0.5842</td>\n",
       "      <td>0.6328</td>\n",
       "      <td>1.348834e+08</td>\n",
       "      <td>81335304.31</td>\n",
       "      <td>0.6171</td>\n",
       "    </tr>\n",
       "    <tr>\n",
       "      <th>2022-06-08</th>\n",
       "      <td>0.6326</td>\n",
       "      <td>0.6029</td>\n",
       "      <td>0.6171</td>\n",
       "      <td>6.479017e+07</td>\n",
       "      <td>39863296.71</td>\n",
       "      <td>0.6089</td>\n",
       "    </tr>\n",
       "  </tbody>\n",
       "</table>\n",
       "</div>"
      ],
      "text/plain": [
       "              high     low    open    volumefrom     volumeto   close\n",
       "time                                                                 \n",
       "2022-06-04  0.6001  0.5764  0.5891  6.237382e+07  36864683.10  0.5961\n",
       "2022-06-05  0.6070  0.5842  0.5961  7.279023e+07  43266315.69  0.5979\n",
       "2022-06-06  0.6558  0.5961  0.5979  1.486834e+08  94432946.02  0.6328\n",
       "2022-06-07  0.6335  0.5842  0.6328  1.348834e+08  81335304.31  0.6171\n",
       "2022-06-08  0.6326  0.6029  0.6171  6.479017e+07  39863296.71  0.6089"
      ]
     },
     "execution_count": 7,
     "metadata": {},
     "output_type": "execute_result"
    }
   ],
   "source": [
    "hist.tail(5)"
   ]
  },
  {
   "cell_type": "code",
   "execution_count": 8,
   "metadata": {},
   "outputs": [
    {
     "data": {
      "text/html": [
       "<div>\n",
       "<style scoped>\n",
       "    .dataframe tbody tr th:only-of-type {\n",
       "        vertical-align: middle;\n",
       "    }\n",
       "\n",
       "    .dataframe tbody tr th {\n",
       "        vertical-align: top;\n",
       "    }\n",
       "\n",
       "    .dataframe thead th {\n",
       "        text-align: right;\n",
       "    }\n",
       "</style>\n",
       "<table border=\"1\" class=\"dataframe\">\n",
       "  <thead>\n",
       "    <tr style=\"text-align: right;\">\n",
       "      <th></th>\n",
       "      <th>high</th>\n",
       "      <th>low</th>\n",
       "      <th>open</th>\n",
       "      <th>volumefrom</th>\n",
       "      <th>volumeto</th>\n",
       "      <th>close</th>\n",
       "    </tr>\n",
       "    <tr>\n",
       "      <th>time</th>\n",
       "      <th></th>\n",
       "      <th></th>\n",
       "      <th></th>\n",
       "      <th></th>\n",
       "      <th></th>\n",
       "      <th></th>\n",
       "    </tr>\n",
       "  </thead>\n",
       "  <tbody>\n",
       "    <tr>\n",
       "      <th>2022-06-04</th>\n",
       "      <td>39.42</td>\n",
       "      <td>35.75</td>\n",
       "      <td>38.28</td>\n",
       "      <td>4845083.87</td>\n",
       "      <td>1.810382e+08</td>\n",
       "      <td>39.00</td>\n",
       "    </tr>\n",
       "    <tr>\n",
       "      <th>2022-06-05</th>\n",
       "      <td>40.21</td>\n",
       "      <td>37.87</td>\n",
       "      <td>39.00</td>\n",
       "      <td>4881009.33</td>\n",
       "      <td>1.914040e+08</td>\n",
       "      <td>38.52</td>\n",
       "    </tr>\n",
       "    <tr>\n",
       "      <th>2022-06-06</th>\n",
       "      <td>44.73</td>\n",
       "      <td>38.34</td>\n",
       "      <td>38.52</td>\n",
       "      <td>9228516.09</td>\n",
       "      <td>3.923739e+08</td>\n",
       "      <td>42.39</td>\n",
       "    </tr>\n",
       "    <tr>\n",
       "      <th>2022-06-07</th>\n",
       "      <td>42.74</td>\n",
       "      <td>37.21</td>\n",
       "      <td>42.39</td>\n",
       "      <td>10203294.73</td>\n",
       "      <td>4.024715e+08</td>\n",
       "      <td>39.32</td>\n",
       "    </tr>\n",
       "    <tr>\n",
       "      <th>2022-06-08</th>\n",
       "      <td>40.91</td>\n",
       "      <td>38.30</td>\n",
       "      <td>39.32</td>\n",
       "      <td>3374113.01</td>\n",
       "      <td>1.324546e+08</td>\n",
       "      <td>38.99</td>\n",
       "    </tr>\n",
       "  </tbody>\n",
       "</table>\n",
       "</div>"
      ],
      "text/plain": [
       "             high    low   open   volumefrom      volumeto  close\n",
       "time                                                             \n",
       "2022-06-04  39.42  35.75  38.28   4845083.87  1.810382e+08  39.00\n",
       "2022-06-05  40.21  37.87  39.00   4881009.33  1.914040e+08  38.52\n",
       "2022-06-06  44.73  38.34  38.52   9228516.09  3.923739e+08  42.39\n",
       "2022-06-07  42.74  37.21  42.39  10203294.73  4.024715e+08  39.32\n",
       "2022-06-08  40.91  38.30  39.32   3374113.01  1.324546e+08  38.99"
      ]
     },
     "execution_count": 8,
     "metadata": {},
     "output_type": "execute_result"
    }
   ],
   "source": [
    "hist1.tail(5)"
   ]
  },
  {
   "cell_type": "code",
   "execution_count": 9,
   "metadata": {
    "id": "0Ykh8CHfpskJ"
   },
   "outputs": [],
   "source": [
    "def train_test_split(df, test_size=0.2):\n",
    "    split_row = len(df) - int(test_size * len(df))\n",
    "    train_data = df.iloc[:split_row]\n",
    "    test_data = df.iloc[split_row:]\n",
    "    return train_data, test_data"
   ]
  },
  {
   "cell_type": "code",
   "execution_count": 10,
   "metadata": {
    "id": "PWKGJlxIpskM"
   },
   "outputs": [],
   "source": [
    "train, test = train_test_split(hist, test_size=0.20)"
   ]
  },
  {
   "cell_type": "code",
   "execution_count": 11,
   "metadata": {},
   "outputs": [
    {
     "data": {
      "text/plain": [
       "401"
      ]
     },
     "execution_count": 11,
     "metadata": {},
     "output_type": "execute_result"
    }
   ],
   "source": [
    "len(train)"
   ]
  },
  {
   "cell_type": "code",
   "execution_count": 12,
   "metadata": {},
   "outputs": [],
   "source": [
    "train1, test1 = train_test_split(hist1, test_size=0.20)"
   ]
  },
  {
   "cell_type": "code",
   "execution_count": 13,
   "metadata": {},
   "outputs": [
    {
     "data": {
      "text/plain": [
       "401"
      ]
     },
     "execution_count": 13,
     "metadata": {},
     "output_type": "execute_result"
    }
   ],
   "source": [
    "len(train1)"
   ]
  },
  {
   "cell_type": "code",
   "execution_count": 14,
   "metadata": {
    "id": "jqfrJbQhpskP"
   },
   "outputs": [],
   "source": [
    "def line_plot(line1, line2, label1=None, label2=None, title='', lw=2):\n",
    "    fig, ax = plt.subplots(1, figsize=(10, 5))\n",
    "    ax.plot(line1, label=label1, linewidth=lw)\n",
    "    ax.plot(line2, label=label2, linewidth=lw)\n",
    "    ax.set_ylabel('Price [USDT]', fontsize=14)\n",
    "    ax.set_title(title, fontsize=16)\n",
    "    ax.legend(loc='best', fontsize=16);"
   ]
  },
  {
   "cell_type": "code",
   "execution_count": 15,
   "metadata": {
    "colab": {
     "base_uri": "https://localhost:8080/",
     "height": 428
    },
    "id": "9F_YTCCxpskS",
    "outputId": "b775e163-be1f-4ea4-869c-4beea7552607",
    "scrolled": true
   },
   "outputs": [
    {
     "data": {
      "image/png": "[encoded data removed]",
      "text/plain": [
       "<Figure size 720x360 with 1 Axes>"
      ]
     },
     "metadata": {
      "needs_background": "light"
     },
     "output_type": "display_data"
    }
   ],
   "source": [
    "line_plot(train[target_col], test[target_col], 'training', 'test', title='$MATIC')"
   ]
  },
  {
   "cell_type": "code",
   "execution_count": 16,
   "metadata": {},
   "outputs": [
    {
     "data": {
      "image/png": "[encoded data removed]",
      "text/plain": [
       "<Figure size 720x360 with 1 Axes>"
      ]
     },
     "metadata": {
      "needs_background": "light"
     },
     "output_type": "display_data"
    }
   ],
   "source": [
    "line_plot(train1[target_col1], test1[target_col1], 'training', 'test', title='$SOL')"
   ]
  },
  {
   "cell_type": "code",
   "execution_count": 17,
   "metadata": {
    "id": "iy-je3_bpskb"
   },
   "outputs": [],
   "source": [
    "def normalise_zero_base(df):\n",
    "    return df / df.iloc[0] - 1\n",
    "\n",
    "def normalise_min_max(df):\n",
    "    return (df - df.min()) / (data.max() - df.min())"
   ]
  },
  {
   "cell_type": "code",
   "execution_count": 18,
   "metadata": {
    "id": "zteL5amIpskh"
   },
   "outputs": [],
   "source": [
    "def extract_window_data(df, window_len=5, zero_base=True):\n",
    "    window_data = []\n",
    "    for idx in range(len(df) - window_len):\n",
    "        tmp = df[idx: (idx + window_len)].copy()\n",
    "        if zero_base:\n",
    "            tmp = normalise_zero_base(tmp)\n",
    "        window_data.append(tmp.values)\n",
    "    return np.array(window_data)"
   ]
  },
  {
   "cell_type": "code",
   "execution_count": 19,
   "metadata": {
    "id": "aTBbhnezpskk"
   },
   "outputs": [],
   "source": [
    "def prepare_data(df, target_col, window_len=10, zero_base=True, test_size=0.2):\n",
    "    train_data, test_data = train_test_split(df, test_size=test_size)\n",
    "    X_train = extract_window_data(train_data, window_len, zero_base)\n",
    "    X_test = extract_window_data(test_data, window_len, zero_base)\n",
    "    y_train = train_data[target_col][window_len:].values\n",
    "    y_test = test_data[target_col][window_len:].values\n",
    "    if zero_base:\n",
    "        y_train = y_train / train_data[target_col][:-window_len].values - 1\n",
    "        y_test = y_test / test_data[target_col][:-window_len].values - 1\n",
    "    return train_data, test_data, X_train, X_test, y_train, y_test"
   ]
  },
  {
   "cell_type": "code",
   "execution_count": 20,
   "metadata": {
    "id": "VjWtS2qJpskn"
   },
   "outputs": [],
   "source": [
    "def build_lstm_model(input_data, output_size, neurons=150, activ_func='linear',\n",
    "                     dropout=0.2, loss='mse', optimizer='rmsprop'):\n",
    "    model = Sequential()\n",
    "    model.add(LSTM(neurons, input_shape=(input_data.shape[1], input_data.shape[2])))\n",
    "    model.add(Dropout(dropout))\n",
    "    model.add(Dense(units=output_size))\n",
    "    model.add(Activation(activ_func))\n",
    "    model.compile(loss=loss, optimizer=optimizer)\n",
    "    return model"
   ]
  },
  {
   "cell_type": "code",
   "execution_count": 128,
   "metadata": {
    "id": "aADcao3Qpskq"
   },
   "outputs": [],
   "source": [
    "np.random.seed(45)\n",
    "window_len = 5\n",
    "test_size = 0.20\n",
    "zero_base = True\n",
    "lstm_neurons = 150\n",
    "epochs = 50\n",
    "batch_size = 32\n",
    "loss = 'mse'\n",
    "dropout = 0.2\n",
    "optimizer = 'rmsprop'"
   ]
  },
  {
   "cell_type": "code",
   "execution_count": 129,
   "metadata": {
    "id": "rAw5VBtwpskt"
   },
   "outputs": [],
   "source": [
    "train, test, X_train, X_test, y_train, y_test = prepare_data(\n",
    "    hist, target_col, window_len=window_len, zero_base=zero_base, test_size=test_size)"
   ]
  },
  {
   "cell_type": "code",
   "execution_count": 130,
   "metadata": {
    "colab": {
     "base_uri": "https://localhost:8080/"
    },
    "id": "E5T9OAwQpskw",
    "outputId": "7621c21d-98df-48fc-e995-4e390f3e8351"
   },
   "outputs": [
    {
     "name": "stdout",
     "output_type": "stream",
     "text": [
      "Epoch 1/50\n",
      "13/13 [==============================] - 7s 110ms/step - loss: 0.0423 - val_loss: 0.0099\n",
      "Epoch 2/50\n",
      "13/13 [==============================] - 0s 14ms/step - loss: 0.0298 - val_loss: 0.0083\n",
      "Epoch 3/50\n",
      "13/13 [==============================] - 0s 18ms/step - loss: 0.0276 - val_loss: 0.0058\n",
      "Epoch 4/50\n",
      "13/13 [==============================] - 0s 22ms/step - loss: 0.0249 - val_loss: 0.0053\n",
      "Epoch 5/50\n",
      "13/13 [==============================] - 0s 16ms/step - loss: 0.0226 - val_loss: 0.0061\n",
      "Epoch 6/50\n",
      "13/13 [==============================] - 0s 17ms/step - loss: 0.0226 - val_loss: 0.0081\n",
      "Epoch 7/50\n",
      "13/13 [==============================] - 0s 16ms/step - loss: 0.0215 - val_loss: 0.0077\n",
      "Epoch 8/50\n",
      "13/13 [==============================] - 0s 16ms/step - loss: 0.0202 - val_loss: 0.0052\n",
      "Epoch 9/50\n",
      "13/13 [==============================] - 0s 29ms/step - loss: 0.0194 - val_loss: 0.0074\n",
      "Epoch 10/50\n",
      "13/13 [==============================] - 0s 21ms/step - loss: 0.0180 - val_loss: 0.0046\n",
      "Epoch 11/50\n",
      "13/13 [==============================] - 0s 16ms/step - loss: 0.0181 - val_loss: 0.0056\n",
      "Epoch 12/50\n",
      "13/13 [==============================] - 0s 25ms/step - loss: 0.0179 - val_loss: 0.0061\n",
      "Epoch 13/50\n",
      "13/13 [==============================] - 0s 23ms/step - loss: 0.0173 - val_loss: 0.0042\n",
      "Epoch 14/50\n",
      "13/13 [==============================] - 0s 18ms/step - loss: 0.0179 - val_loss: 0.0081\n",
      "Epoch 15/50\n",
      "13/13 [==============================] - 0s 17ms/step - loss: 0.0168 - val_loss: 0.0069\n",
      "Epoch 16/50\n",
      "13/13 [==============================] - 0s 21ms/step - loss: 0.0166 - val_loss: 0.0034\n",
      "Epoch 17/50\n",
      "13/13 [==============================] - 0s 21ms/step - loss: 0.0153 - val_loss: 0.0037\n",
      "Epoch 18/50\n",
      "13/13 [==============================] - 0s 19ms/step - loss: 0.0160 - val_loss: 0.0039\n",
      "Epoch 19/50\n",
      "13/13 [==============================] - 0s 16ms/step - loss: 0.0161 - val_loss: 0.0037\n",
      "Epoch 20/50\n",
      "13/13 [==============================] - 0s 16ms/step - loss: 0.0165 - val_loss: 0.0033\n",
      "Epoch 21/50\n",
      "13/13 [==============================] - 0s 16ms/step - loss: 0.0177 - val_loss: 0.0037\n",
      "Epoch 22/50\n",
      "13/13 [==============================] - 0s 16ms/step - loss: 0.0164 - val_loss: 0.0051\n",
      "Epoch 23/50\n",
      "13/13 [==============================] - 0s 16ms/step - loss: 0.0157 - val_loss: 0.0027\n",
      "Epoch 24/50\n",
      "13/13 [==============================] - 0s 15ms/step - loss: 0.0146 - val_loss: 0.0035\n",
      "Epoch 25/50\n",
      "13/13 [==============================] - 0s 20ms/step - loss: 0.0151 - val_loss: 0.0045\n",
      "Epoch 26/50\n",
      "13/13 [==============================] - 0s 14ms/step - loss: 0.0141 - val_loss: 0.0045\n",
      "Epoch 27/50\n",
      "13/13 [==============================] - 0s 22ms/step - loss: 0.0153 - val_loss: 0.0052\n",
      "Epoch 28/50\n",
      "13/13 [==============================] - 0s 22ms/step - loss: 0.0144 - val_loss: 0.0031\n",
      "Epoch 29/50\n",
      "13/13 [==============================] - 0s 23ms/step - loss: 0.0164 - val_loss: 0.0044\n",
      "Epoch 30/50\n",
      "13/13 [==============================] - 0s 26ms/step - loss: 0.0152 - val_loss: 0.0040\n",
      "Epoch 31/50\n",
      "13/13 [==============================] - 0s 21ms/step - loss: 0.0153 - val_loss: 0.0052\n",
      "Epoch 32/50\n",
      "13/13 [==============================] - 0s 20ms/step - loss: 0.0154 - val_loss: 0.0043\n",
      "Epoch 33/50\n",
      "13/13 [==============================] - 0s 25ms/step - loss: 0.0142 - val_loss: 0.0045\n",
      "Epoch 34/50\n",
      "13/13 [==============================] - 0s 16ms/step - loss: 0.0145 - val_loss: 0.0032\n",
      "Epoch 35/50\n",
      "13/13 [==============================] - 0s 15ms/step - loss: 0.0145 - val_loss: 0.0040\n",
      "Epoch 36/50\n",
      "13/13 [==============================] - 0s 20ms/step - loss: 0.0137 - val_loss: 0.0037\n",
      "Epoch 37/50\n",
      "13/13 [==============================] - 0s 19ms/step - loss: 0.0158 - val_loss: 0.0045\n",
      "Epoch 38/50\n",
      "13/13 [==============================] - 0s 16ms/step - loss: 0.0148 - val_loss: 0.0033\n",
      "Epoch 39/50\n",
      "13/13 [==============================] - 0s 14ms/step - loss: 0.0144 - val_loss: 0.0034\n",
      "Epoch 40/50\n",
      "13/13 [==============================] - 0s 21ms/step - loss: 0.0149 - val_loss: 0.0049\n",
      "Epoch 41/50\n",
      "13/13 [==============================] - 0s 24ms/step - loss: 0.0142 - val_loss: 0.0036\n",
      "Epoch 42/50\n",
      "13/13 [==============================] - 0s 11ms/step - loss: 0.0150 - val_loss: 0.0034\n",
      "Epoch 43/50\n",
      "13/13 [==============================] - 0s 10ms/step - loss: 0.0136 - val_loss: 0.0034\n",
      "Epoch 44/50\n",
      "13/13 [==============================] - 0s 10ms/step - loss: 0.0137 - val_loss: 0.0040\n",
      "Epoch 45/50\n",
      "13/13 [==============================] - 0s 10ms/step - loss: 0.0135 - val_loss: 0.0042\n",
      "Epoch 46/50\n",
      "13/13 [==============================] - 0s 12ms/step - loss: 0.0140 - val_loss: 0.0036\n",
      "Epoch 47/50\n",
      "13/13 [==============================] - 0s 12ms/step - loss: 0.0135 - val_loss: 0.0043\n",
      "Epoch 48/50\n",
      "13/13 [==============================] - 0s 14ms/step - loss: 0.0131 - val_loss: 0.0035\n",
      "Epoch 49/50\n",
      "13/13 [==============================] - 0s 25ms/step - loss: 0.0139 - val_loss: 0.0045\n",
      "Epoch 50/50\n",
      "13/13 [==============================] - 0s 22ms/step - loss: 0.0140 - val_loss: 0.0032\n"
     ]
    }
   ],
   "source": [
    "model = build_lstm_model(\n",
    "    X_train, output_size=1, neurons=lstm_neurons, dropout=dropout, loss=loss,\n",
    "    optimizer=optimizer)\n",
    "history = model.fit(\n",
    "    X_train, y_train, validation_data=(X_test, y_test), epochs=epochs, batch_size=batch_size, verbose=1, shuffle=True)"
   ]
  },
  {
   "cell_type": "code",
   "execution_count": 131,
   "metadata": {
    "colab": {
     "base_uri": "https://localhost:8080/",
     "height": 295
    },
    "id": "qhMsatri0miT",
    "outputId": "7ab04030-c3bc-4858-d41a-e8fadac1236f"
   },
   "outputs": [
    {
     "data": {
      "image/png": "[encoded data removed]",
      "text/plain": [
       "<Figure size 432x288 with 1 Axes>"
      ]
     },
     "metadata": {
      "needs_background": "light"
     },
     "output_type": "display_data"
    }
   ],
   "source": [
    "import matplotlib.pyplot as plt\n",
    "plt.plot(history.history['loss'],'r',linewidth=2, label='Train loss')\n",
    "plt.plot(history.history['val_loss'], 'g',linewidth=2, label='Validation loss')\n",
    "plt.title('LSTM')\n",
    "plt.xlabel('Epochs')\n",
    "plt.ylabel('MSE')\n",
    "plt.show()"
   ]
  },
  {
   "cell_type": "code",
   "execution_count": 132,
   "metadata": {
    "colab": {
     "base_uri": "https://localhost:8080/"
    },
    "id": "mS6SPIGNpskz",
    "outputId": "0e3e1a6c-c53f-43ba-ff9b-7f9c2d5aa5fe"
   },
   "outputs": [
    {
     "data": {
      "text/plain": [
       "0.03882438658972421"
      ]
     },
     "execution_count": 132,
     "metadata": {},
     "output_type": "execute_result"
    }
   ],
   "source": [
    "targets = test[target_col][window_len:]\n",
    "preds = model.predict(X_test).squeeze()\n",
    "mean_absolute_error(preds, y_test)"
   ]
  },
  {
   "cell_type": "code",
   "execution_count": 133,
   "metadata": {
    "colab": {
     "base_uri": "https://localhost:8080/"
    },
    "id": "sbhTW5T6zVAU",
    "outputId": "4b6e6180-90cf-4227-add8-9c61a0efd7fb"
   },
   "outputs": [
    {
     "data": {
      "text/plain": [
       "0.003197627524234453"
      ]
     },
     "execution_count": 133,
     "metadata": {},
     "output_type": "execute_result"
    }
   ],
   "source": [
    "\n",
    "from sklearn.metrics import mean_squared_error\n",
    "MSE=mean_squared_error(preds, y_test)\n",
    "MSE\n"
   ]
  },
  {
   "cell_type": "code",
   "execution_count": 134,
   "metadata": {},
   "outputs": [
    {
     "data": {
      "text/plain": [
       "0.0565475686854391"
      ]
     },
     "execution_count": 134,
     "metadata": {},
     "output_type": "execute_result"
    }
   ],
   "source": [
    "import math\n",
    "rmse = math.sqrt(MSE)\n",
    "rmse"
   ]
  },
  {
   "cell_type": "code",
   "execution_count": 135,
   "metadata": {
    "colab": {
     "base_uri": "https://localhost:8080/"
    },
    "id": "jnFOCI9ezb8T",
    "outputId": "1c50a541-f9c1-422f-aaaf-7314dae06f78"
   },
   "outputs": [
    {
     "data": {
      "text/plain": [
       "0.6862126543345302"
      ]
     },
     "execution_count": 135,
     "metadata": {},
     "output_type": "execute_result"
    }
   ],
   "source": [
    "from sklearn.metrics import r2_score\n",
    "R2=r2_score(y_test, preds)\n",
    "R2"
   ]
  },
  {
   "cell_type": "code",
   "execution_count": 119,
   "metadata": {
    "colab": {
     "base_uri": "https://localhost:8080/",
     "height": 428
    },
    "id": "4jU0wERepsk2",
    "outputId": "b09dca6a-d71e-4280-e271-68bd15ea2d2c"
   },
   "outputs": [
    {
     "data": {
      "image/png": "[encoded data removed]",
      "text/plain": [
       "<Figure size 720x360 with 1 Axes>"
      ]
     },
     "metadata": {
      "needs_background": "light"
     },
     "output_type": "display_data"
    }
   ],
   "source": [
    "preds = test[target_col].values[:-window_len] * (preds + 1)\n",
    "preds= pd.Series(index=targets.index, data=preds)\n",
    "line_plot(targets, preds, 'actual', 'prediction', title ='$MATIC', lw=3)"
   ]
  },
  {
   "cell_type": "code",
   "execution_count": 100,
   "metadata": {},
   "outputs": [],
   "source": [
    "np.random.seed(45)\n",
    "window_len = 5\n",
    "test_size = 0.20\n",
    "zero_base = True\n",
    "lstm_neurons1 = 150\n",
    "epochs1 = 250\n",
    "batch_size = 32\n",
    "loss = 'mse'\n",
    "dropout = 0.2\n",
    "optimizer = 'rmsprop'"
   ]
  },
  {
   "cell_type": "code",
   "execution_count": 101,
   "metadata": {},
   "outputs": [],
   "source": [
    "train1, test1, X_train1, X_test1, y_train1, y_test1 = prepare_data(\n",
    "    hist1, target_col1, window_len=window_len, zero_base=zero_base, test_size=test_size)"
   ]
  },
  {
   "cell_type": "code",
   "execution_count": 102,
   "metadata": {},
   "outputs": [
    {
     "name": "stdout",
     "output_type": "stream",
     "text": [
      "Epoch 1/250\n",
      "13/13 [==============================] - 7s 113ms/step - loss: 0.0262 - val_loss: 0.0087\n",
      "Epoch 2/250\n",
      "13/13 [==============================] - 0s 15ms/step - loss: 0.0162 - val_loss: 0.0072\n",
      "Epoch 3/250\n",
      "13/13 [==============================] - 0s 15ms/step - loss: 0.0154 - val_loss: 0.0088\n",
      "Epoch 4/250\n",
      "13/13 [==============================] - 0s 18ms/step - loss: 0.0134 - val_loss: 0.0064\n",
      "Epoch 5/250\n",
      "13/13 [==============================] - 0s 18ms/step - loss: 0.0122 - val_loss: 0.0054\n",
      "Epoch 6/250\n",
      "13/13 [==============================] - 0s 17ms/step - loss: 0.0122 - val_loss: 0.0073\n",
      "Epoch 7/250\n",
      "13/13 [==============================] - 0s 17ms/step - loss: 0.0104 - val_loss: 0.0061\n",
      "Epoch 8/250\n",
      "13/13 [==============================] - 0s 16ms/step - loss: 0.0113 - val_loss: 0.0055\n",
      "Epoch 9/250\n",
      "13/13 [==============================] - 0s 18ms/step - loss: 0.0098 - val_loss: 0.0053\n",
      "Epoch 10/250\n",
      "13/13 [==============================] - 0s 18ms/step - loss: 0.0105 - val_loss: 0.0042\n",
      "Epoch 11/250\n",
      "13/13 [==============================] - 0s 18ms/step - loss: 0.0093 - val_loss: 0.0042\n",
      "Epoch 12/250\n",
      "13/13 [==============================] - 0s 21ms/step - loss: 0.0092 - val_loss: 0.0056\n",
      "Epoch 13/250\n",
      "13/13 [==============================] - 0s 16ms/step - loss: 0.0099 - val_loss: 0.0052\n",
      "Epoch 14/250\n",
      "13/13 [==============================] - 0s 17ms/step - loss: 0.0094 - val_loss: 0.0049\n",
      "Epoch 15/250\n",
      "13/13 [==============================] - 0s 17ms/step - loss: 0.0104 - val_loss: 0.0039\n",
      "Epoch 16/250\n",
      "13/13 [==============================] - 0s 20ms/step - loss: 0.0082 - val_loss: 0.0037\n",
      "Epoch 17/250\n",
      "13/13 [==============================] - 0s 17ms/step - loss: 0.0090 - val_loss: 0.0048\n",
      "Epoch 18/250\n",
      "13/13 [==============================] - 0s 16ms/step - loss: 0.0089 - val_loss: 0.0049\n",
      "Epoch 19/250\n",
      "13/13 [==============================] - 0s 15ms/step - loss: 0.0089 - val_loss: 0.0042\n",
      "Epoch 20/250\n",
      "13/13 [==============================] - 0s 16ms/step - loss: 0.0094 - val_loss: 0.0037\n",
      "Epoch 21/250\n",
      "13/13 [==============================] - 0s 16ms/step - loss: 0.0079 - val_loss: 0.0041\n",
      "Epoch 22/250\n",
      "13/13 [==============================] - 0s 18ms/step - loss: 0.0081 - val_loss: 0.0038\n",
      "Epoch 23/250\n",
      "13/13 [==============================] - 0s 16ms/step - loss: 0.0086 - val_loss: 0.0041\n",
      "Epoch 24/250\n",
      "13/13 [==============================] - 0s 16ms/step - loss: 0.0086 - val_loss: 0.0035\n",
      "Epoch 25/250\n",
      "13/13 [==============================] - 0s 16ms/step - loss: 0.0087 - val_loss: 0.0057\n",
      "Epoch 26/250\n",
      "13/13 [==============================] - 0s 15ms/step - loss: 0.0085 - val_loss: 0.0041\n",
      "Epoch 27/250\n",
      "13/13 [==============================] - 0s 10ms/step - loss: 0.0082 - val_loss: 0.0056\n",
      "Epoch 28/250\n",
      "13/13 [==============================] - 0s 11ms/step - loss: 0.0083 - val_loss: 0.0040\n",
      "Epoch 29/250\n",
      "13/13 [==============================] - 0s 11ms/step - loss: 0.0082 - val_loss: 0.0034\n",
      "Epoch 30/250\n",
      "13/13 [==============================] - 0s 11ms/step - loss: 0.0086 - val_loss: 0.0039\n",
      "Epoch 31/250\n",
      "13/13 [==============================] - 0s 15ms/step - loss: 0.0080 - val_loss: 0.0038\n",
      "Epoch 32/250\n",
      "13/13 [==============================] - 0s 13ms/step - loss: 0.0082 - val_loss: 0.0039\n",
      "Epoch 33/250\n",
      "13/13 [==============================] - 0s 15ms/step - loss: 0.0079 - val_loss: 0.0040\n",
      "Epoch 34/250\n",
      "13/13 [==============================] - 0s 16ms/step - loss: 0.0074 - val_loss: 0.0039\n",
      "Epoch 35/250\n",
      "13/13 [==============================] - 0s 14ms/step - loss: 0.0082 - val_loss: 0.0037\n",
      "Epoch 36/250\n",
      "13/13 [==============================] - 0s 15ms/step - loss: 0.0077 - val_loss: 0.0042\n",
      "Epoch 37/250\n",
      "13/13 [==============================] - 0s 23ms/step - loss: 0.0076 - val_loss: 0.0037\n",
      "Epoch 38/250\n",
      "13/13 [==============================] - 0s 13ms/step - loss: 0.0075 - val_loss: 0.0040\n",
      "Epoch 39/250\n",
      "13/13 [==============================] - 0s 20ms/step - loss: 0.0075 - val_loss: 0.0037\n",
      "Epoch 40/250\n",
      "13/13 [==============================] - 0s 20ms/step - loss: 0.0080 - val_loss: 0.0040\n",
      "Epoch 41/250\n",
      "13/13 [==============================] - 0s 20ms/step - loss: 0.0078 - val_loss: 0.0046\n",
      "Epoch 42/250\n",
      "13/13 [==============================] - 0s 15ms/step - loss: 0.0078 - val_loss: 0.0040\n",
      "Epoch 43/250\n",
      "13/13 [==============================] - 0s 15ms/step - loss: 0.0081 - val_loss: 0.0036\n",
      "Epoch 44/250\n",
      "13/13 [==============================] - 0s 15ms/step - loss: 0.0079 - val_loss: 0.0042\n",
      "Epoch 45/250\n",
      "13/13 [==============================] - 0s 15ms/step - loss: 0.0073 - val_loss: 0.0037\n",
      "Epoch 46/250\n",
      "13/13 [==============================] - 0s 15ms/step - loss: 0.0077 - val_loss: 0.0044\n",
      "Epoch 47/250\n",
      "13/13 [==============================] - 0s 15ms/step - loss: 0.0077 - val_loss: 0.0038\n",
      "Epoch 48/250\n",
      "13/13 [==============================] - 0s 25ms/step - loss: 0.0074 - val_loss: 0.0037\n",
      "Epoch 49/250\n",
      "13/13 [==============================] - 0s 24ms/step - loss: 0.0076 - val_loss: 0.0046\n",
      "Epoch 50/250\n",
      "13/13 [==============================] - 0s 15ms/step - loss: 0.0079 - val_loss: 0.0036\n",
      "Epoch 51/250\n",
      "13/13 [==============================] - 0s 15ms/step - loss: 0.0072 - val_loss: 0.0036\n",
      "Epoch 52/250\n",
      "13/13 [==============================] - 0s 15ms/step - loss: 0.0074 - val_loss: 0.0036\n",
      "Epoch 53/250\n",
      "13/13 [==============================] - 0s 15ms/step - loss: 0.0069 - val_loss: 0.0037\n",
      "Epoch 54/250\n",
      "13/13 [==============================] - 0s 16ms/step - loss: 0.0073 - val_loss: 0.0036\n",
      "Epoch 55/250\n",
      "13/13 [==============================] - 0s 15ms/step - loss: 0.0076 - val_loss: 0.0040\n",
      "Epoch 56/250\n",
      "13/13 [==============================] - 0s 15ms/step - loss: 0.0077 - val_loss: 0.0037\n",
      "Epoch 57/250\n",
      "13/13 [==============================] - 0s 19ms/step - loss: 0.0067 - val_loss: 0.0041\n",
      "Epoch 58/250\n",
      "13/13 [==============================] - 0s 16ms/step - loss: 0.0071 - val_loss: 0.0035\n",
      "Epoch 59/250\n",
      "13/13 [==============================] - 0s 17ms/step - loss: 0.0074 - val_loss: 0.0037\n",
      "Epoch 60/250\n",
      "13/13 [==============================] - 0s 19ms/step - loss: 0.0075 - val_loss: 0.0037\n",
      "Epoch 61/250\n",
      "13/13 [==============================] - 0s 19ms/step - loss: 0.0071 - val_loss: 0.0035\n",
      "Epoch 62/250\n",
      "13/13 [==============================] - 0s 16ms/step - loss: 0.0072 - val_loss: 0.0036\n",
      "Epoch 63/250\n",
      "13/13 [==============================] - 0s 15ms/step - loss: 0.0070 - val_loss: 0.0056\n",
      "Epoch 64/250\n",
      "13/13 [==============================] - 0s 19ms/step - loss: 0.0069 - val_loss: 0.0038\n",
      "Epoch 65/250\n",
      "13/13 [==============================] - 0s 27ms/step - loss: 0.0068 - val_loss: 0.0042\n",
      "Epoch 66/250\n",
      "13/13 [==============================] - 0s 28ms/step - loss: 0.0071 - val_loss: 0.0037\n",
      "Epoch 67/250\n",
      "13/13 [==============================] - 0s 22ms/step - loss: 0.0069 - val_loss: 0.0042\n",
      "Epoch 68/250\n",
      "13/13 [==============================] - 0s 17ms/step - loss: 0.0071 - val_loss: 0.0034\n",
      "Epoch 69/250\n",
      "13/13 [==============================] - 0s 31ms/step - loss: 0.0075 - val_loss: 0.0046\n",
      "Epoch 70/250\n",
      "13/13 [==============================] - 0s 22ms/step - loss: 0.0075 - val_loss: 0.0035\n",
      "Epoch 71/250\n",
      "13/13 [==============================] - 0s 18ms/step - loss: 0.0070 - val_loss: 0.0045\n",
      "Epoch 72/250\n",
      "13/13 [==============================] - 0s 13ms/step - loss: 0.0072 - val_loss: 0.0041\n",
      "Epoch 73/250\n",
      "13/13 [==============================] - 0s 9ms/step - loss: 0.0070 - val_loss: 0.0045\n",
      "Epoch 74/250\n",
      "13/13 [==============================] - 0s 26ms/step - loss: 0.0068 - val_loss: 0.0038\n",
      "Epoch 75/250\n",
      "13/13 [==============================] - 0s 20ms/step - loss: 0.0072 - val_loss: 0.0036\n",
      "Epoch 76/250\n",
      "13/13 [==============================] - 0s 19ms/step - loss: 0.0069 - val_loss: 0.0045\n",
      "Epoch 77/250\n",
      "13/13 [==============================] - 0s 27ms/step - loss: 0.0073 - val_loss: 0.0038\n",
      "Epoch 78/250\n",
      "13/13 [==============================] - 0s 27ms/step - loss: 0.0072 - val_loss: 0.0036\n",
      "Epoch 79/250\n",
      "13/13 [==============================] - 0s 27ms/step - loss: 0.0071 - val_loss: 0.0037\n",
      "Epoch 80/250\n",
      "13/13 [==============================] - 0s 24ms/step - loss: 0.0068 - val_loss: 0.0039\n",
      "Epoch 81/250\n",
      "13/13 [==============================] - 0s 18ms/step - loss: 0.0069 - val_loss: 0.0035\n",
      "Epoch 82/250\n"
     ]
    },
    {
     "name": "stdout",
     "output_type": "stream",
     "text": [
      "13/13 [==============================] - 0s 17ms/step - loss: 0.0071 - val_loss: 0.0038\n",
      "Epoch 83/250\n",
      "13/13 [==============================] - 0s 17ms/step - loss: 0.0071 - val_loss: 0.0041\n",
      "Epoch 84/250\n",
      "13/13 [==============================] - 0s 17ms/step - loss: 0.0068 - val_loss: 0.0038\n",
      "Epoch 85/250\n",
      "13/13 [==============================] - 0s 21ms/step - loss: 0.0065 - val_loss: 0.0040\n",
      "Epoch 86/250\n",
      "13/13 [==============================] - 0s 23ms/step - loss: 0.0070 - val_loss: 0.0043\n",
      "Epoch 87/250\n",
      "13/13 [==============================] - 0s 28ms/step - loss: 0.0068 - val_loss: 0.0047\n",
      "Epoch 88/250\n",
      "13/13 [==============================] - 0s 26ms/step - loss: 0.0072 - val_loss: 0.0038\n",
      "Epoch 89/250\n",
      "13/13 [==============================] - 0s 28ms/step - loss: 0.0067 - val_loss: 0.0037\n",
      "Epoch 90/250\n",
      "13/13 [==============================] - 0s 28ms/step - loss: 0.0068 - val_loss: 0.0044\n",
      "Epoch 91/250\n",
      "13/13 [==============================] - 0s 26ms/step - loss: 0.0069 - val_loss: 0.0037\n",
      "Epoch 92/250\n",
      "13/13 [==============================] - 0s 17ms/step - loss: 0.0070 - val_loss: 0.0038\n",
      "Epoch 93/250\n",
      "13/13 [==============================] - 0s 17ms/step - loss: 0.0067 - val_loss: 0.0041\n",
      "Epoch 94/250\n",
      "13/13 [==============================] - 0s 17ms/step - loss: 0.0068 - val_loss: 0.0042\n",
      "Epoch 95/250\n",
      "13/13 [==============================] - 0s 16ms/step - loss: 0.0063 - val_loss: 0.0035\n",
      "Epoch 96/250\n",
      "13/13 [==============================] - 0s 17ms/step - loss: 0.0069 - val_loss: 0.0039\n",
      "Epoch 97/250\n",
      "13/13 [==============================] - 0s 16ms/step - loss: 0.0065 - val_loss: 0.0037\n",
      "Epoch 98/250\n",
      "13/13 [==============================] - 0s 26ms/step - loss: 0.0064 - val_loss: 0.0037\n",
      "Epoch 99/250\n",
      "13/13 [==============================] - 0s 25ms/step - loss: 0.0065 - val_loss: 0.0040\n",
      "Epoch 100/250\n",
      "13/13 [==============================] - 0s 16ms/step - loss: 0.0066 - val_loss: 0.0042\n",
      "Epoch 101/250\n",
      "13/13 [==============================] - 0s 20ms/step - loss: 0.0070 - val_loss: 0.0039\n",
      "Epoch 102/250\n",
      "13/13 [==============================] - 0s 21ms/step - loss: 0.0068 - val_loss: 0.0038\n",
      "Epoch 103/250\n",
      "13/13 [==============================] - 0s 16ms/step - loss: 0.0063 - val_loss: 0.0039\n",
      "Epoch 104/250\n",
      "13/13 [==============================] - 0s 16ms/step - loss: 0.0067 - val_loss: 0.0036\n",
      "Epoch 105/250\n",
      "13/13 [==============================] - 0s 25ms/step - loss: 0.0065 - val_loss: 0.0040\n",
      "Epoch 106/250\n",
      "13/13 [==============================] - 0s 30ms/step - loss: 0.0064 - val_loss: 0.0048\n",
      "Epoch 107/250\n",
      "13/13 [==============================] - 0s 31ms/step - loss: 0.0065 - val_loss: 0.0046\n",
      "Epoch 108/250\n",
      "13/13 [==============================] - 0s 26ms/step - loss: 0.0065 - val_loss: 0.0049\n",
      "Epoch 109/250\n",
      "13/13 [==============================] - 0s 11ms/step - loss: 0.0070 - val_loss: 0.0039\n",
      "Epoch 110/250\n",
      "13/13 [==============================] - 0s 15ms/step - loss: 0.0064 - val_loss: 0.0035\n",
      "Epoch 111/250\n",
      "13/13 [==============================] - 0s 15ms/step - loss: 0.0061 - val_loss: 0.0035\n",
      "Epoch 112/250\n",
      "13/13 [==============================] - 0s 17ms/step - loss: 0.0065 - val_loss: 0.0037\n",
      "Epoch 113/250\n",
      "13/13 [==============================] - 0s 11ms/step - loss: 0.0062 - val_loss: 0.0036\n",
      "Epoch 114/250\n",
      "13/13 [==============================] - 0s 10ms/step - loss: 0.0066 - val_loss: 0.0034\n",
      "Epoch 115/250\n",
      "13/13 [==============================] - 0s 12ms/step - loss: 0.0063 - val_loss: 0.0042\n",
      "Epoch 116/250\n",
      "13/13 [==============================] - 0s 17ms/step - loss: 0.0063 - val_loss: 0.0035\n",
      "Epoch 117/250\n",
      "13/13 [==============================] - 0s 17ms/step - loss: 0.0064 - val_loss: 0.0035\n",
      "Epoch 118/250\n",
      "13/13 [==============================] - 0s 23ms/step - loss: 0.0063 - val_loss: 0.0035\n",
      "Epoch 119/250\n",
      "13/13 [==============================] - 0s 26ms/step - loss: 0.0063 - val_loss: 0.0040\n",
      "Epoch 120/250\n",
      "13/13 [==============================] - 0s 16ms/step - loss: 0.0064 - val_loss: 0.0035\n",
      "Epoch 121/250\n",
      "13/13 [==============================] - 0s 14ms/step - loss: 0.0063 - val_loss: 0.0039\n",
      "Epoch 122/250\n",
      "13/13 [==============================] - 0s 14ms/step - loss: 0.0063 - val_loss: 0.0034\n",
      "Epoch 123/250\n",
      "13/13 [==============================] - 0s 15ms/step - loss: 0.0066 - val_loss: 0.0036\n",
      "Epoch 124/250\n",
      "13/13 [==============================] - 0s 11ms/step - loss: 0.0061 - val_loss: 0.0040\n",
      "Epoch 125/250\n",
      "13/13 [==============================] - 0s 11ms/step - loss: 0.0064 - val_loss: 0.0035\n",
      "Epoch 126/250\n",
      "13/13 [==============================] - 0s 10ms/step - loss: 0.0064 - val_loss: 0.0043\n",
      "Epoch 127/250\n",
      "13/13 [==============================] - 0s 13ms/step - loss: 0.0059 - val_loss: 0.0035\n",
      "Epoch 128/250\n",
      "13/13 [==============================] - 0s 12ms/step - loss: 0.0060 - val_loss: 0.0042\n",
      "Epoch 129/250\n",
      "13/13 [==============================] - 0s 14ms/step - loss: 0.0060 - val_loss: 0.0033\n",
      "Epoch 130/250\n",
      "13/13 [==============================] - 0s 13ms/step - loss: 0.0065 - val_loss: 0.0035\n",
      "Epoch 131/250\n",
      "13/13 [==============================] - 0s 11ms/step - loss: 0.0062 - val_loss: 0.0038\n",
      "Epoch 132/250\n",
      "13/13 [==============================] - 0s 13ms/step - loss: 0.0060 - val_loss: 0.0035\n",
      "Epoch 133/250\n",
      "13/13 [==============================] - 0s 13ms/step - loss: 0.0062 - val_loss: 0.0046\n",
      "Epoch 134/250\n",
      "13/13 [==============================] - 0s 12ms/step - loss: 0.0060 - val_loss: 0.0037\n",
      "Epoch 135/250\n",
      "13/13 [==============================] - 0s 14ms/step - loss: 0.0062 - val_loss: 0.0035\n",
      "Epoch 136/250\n",
      "13/13 [==============================] - 0s 15ms/step - loss: 0.0059 - val_loss: 0.0042\n",
      "Epoch 137/250\n",
      "13/13 [==============================] - 0s 28ms/step - loss: 0.0064 - val_loss: 0.0033\n",
      "Epoch 138/250\n",
      "13/13 [==============================] - 0s 28ms/step - loss: 0.0059 - val_loss: 0.0035\n",
      "Epoch 139/250\n",
      "13/13 [==============================] - 0s 27ms/step - loss: 0.0060 - val_loss: 0.0034\n",
      "Epoch 140/250\n",
      "13/13 [==============================] - 0s 17ms/step - loss: 0.0060 - val_loss: 0.0035\n",
      "Epoch 141/250\n",
      "13/13 [==============================] - 0s 16ms/step - loss: 0.0061 - val_loss: 0.0033\n",
      "Epoch 142/250\n",
      "13/13 [==============================] - 0s 27ms/step - loss: 0.0060 - val_loss: 0.0036\n",
      "Epoch 143/250\n",
      "13/13 [==============================] - 0s 29ms/step - loss: 0.0057 - val_loss: 0.0043\n",
      "Epoch 144/250\n",
      "13/13 [==============================] - 0s 31ms/step - loss: 0.0066 - val_loss: 0.0039\n",
      "Epoch 145/250\n",
      "13/13 [==============================] - 0s 29ms/step - loss: 0.0061 - val_loss: 0.0036\n",
      "Epoch 146/250\n",
      "13/13 [==============================] - 0s 30ms/step - loss: 0.0063 - val_loss: 0.0034\n",
      "Epoch 147/250\n",
      "13/13 [==============================] - 0s 29ms/step - loss: 0.0060 - val_loss: 0.0034\n",
      "Epoch 148/250\n",
      "13/13 [==============================] - 0s 29ms/step - loss: 0.0058 - val_loss: 0.0036\n",
      "Epoch 149/250\n",
      "13/13 [==============================] - 0s 27ms/step - loss: 0.0062 - val_loss: 0.0035\n",
      "Epoch 150/250\n",
      "13/13 [==============================] - 0s 14ms/step - loss: 0.0059 - val_loss: 0.0038\n",
      "Epoch 151/250\n",
      "13/13 [==============================] - 0s 14ms/step - loss: 0.0061 - val_loss: 0.0033\n",
      "Epoch 152/250\n",
      "13/13 [==============================] - 0s 20ms/step - loss: 0.0060 - val_loss: 0.0033\n",
      "Epoch 153/250\n",
      "13/13 [==============================] - 0s 13ms/step - loss: 0.0062 - val_loss: 0.0034\n",
      "Epoch 154/250\n",
      "13/13 [==============================] - 0s 16ms/step - loss: 0.0061 - val_loss: 0.0034\n",
      "Epoch 155/250\n",
      "13/13 [==============================] - 0s 11ms/step - loss: 0.0060 - val_loss: 0.0034\n",
      "Epoch 156/250\n",
      "13/13 [==============================] - 0s 15ms/step - loss: 0.0060 - val_loss: 0.0034\n",
      "Epoch 157/250\n",
      "13/13 [==============================] - 0s 18ms/step - loss: 0.0059 - val_loss: 0.0037\n",
      "Epoch 158/250\n",
      "13/13 [==============================] - 0s 16ms/step - loss: 0.0059 - val_loss: 0.0035\n",
      "Epoch 159/250\n",
      "13/13 [==============================] - 0s 17ms/step - loss: 0.0060 - val_loss: 0.0036\n",
      "Epoch 160/250\n",
      "13/13 [==============================] - 0s 20ms/step - loss: 0.0057 - val_loss: 0.0041\n",
      "Epoch 161/250\n",
      "13/13 [==============================] - 0s 28ms/step - loss: 0.0061 - val_loss: 0.0037\n",
      "Epoch 162/250\n"
     ]
    },
    {
     "name": "stdout",
     "output_type": "stream",
     "text": [
      "13/13 [==============================] - 0s 28ms/step - loss: 0.0054 - val_loss: 0.0034\n",
      "Epoch 163/250\n",
      "13/13 [==============================] - 0s 21ms/step - loss: 0.0058 - val_loss: 0.0036\n",
      "Epoch 164/250\n",
      "13/13 [==============================] - 0s 13ms/step - loss: 0.0058 - val_loss: 0.0043\n",
      "Epoch 165/250\n",
      "13/13 [==============================] - 0s 12ms/step - loss: 0.0059 - val_loss: 0.0037\n",
      "Epoch 166/250\n",
      "13/13 [==============================] - 0s 11ms/step - loss: 0.0057 - val_loss: 0.0036\n",
      "Epoch 167/250\n",
      "13/13 [==============================] - 0s 10ms/step - loss: 0.0065 - val_loss: 0.0043\n",
      "Epoch 168/250\n",
      "13/13 [==============================] - 0s 14ms/step - loss: 0.0058 - val_loss: 0.0038\n",
      "Epoch 169/250\n",
      "13/13 [==============================] - 0s 10ms/step - loss: 0.0055 - val_loss: 0.0037\n",
      "Epoch 170/250\n",
      "13/13 [==============================] - 0s 16ms/step - loss: 0.0056 - val_loss: 0.0034\n",
      "Epoch 171/250\n",
      "13/13 [==============================] - 0s 16ms/step - loss: 0.0058 - val_loss: 0.0040\n",
      "Epoch 172/250\n",
      "13/13 [==============================] - 0s 18ms/step - loss: 0.0062 - val_loss: 0.0037\n",
      "Epoch 173/250\n",
      "13/13 [==============================] - 0s 27ms/step - loss: 0.0055 - val_loss: 0.0035\n",
      "Epoch 174/250\n",
      "13/13 [==============================] - 0s 28ms/step - loss: 0.0061 - val_loss: 0.0034\n",
      "Epoch 175/250\n",
      "13/13 [==============================] - 0s 16ms/step - loss: 0.0057 - val_loss: 0.0045\n",
      "Epoch 176/250\n",
      "13/13 [==============================] - 0s 15ms/step - loss: 0.0059 - val_loss: 0.0038\n",
      "Epoch 177/250\n",
      "13/13 [==============================] - 0s 17ms/step - loss: 0.0056 - val_loss: 0.0032\n",
      "Epoch 178/250\n",
      "13/13 [==============================] - 0s 17ms/step - loss: 0.0058 - val_loss: 0.0037\n",
      "Epoch 179/250\n",
      "13/13 [==============================] - 0s 17ms/step - loss: 0.0057 - val_loss: 0.0033\n",
      "Epoch 180/250\n",
      "13/13 [==============================] - 0s 27ms/step - loss: 0.0058 - val_loss: 0.0035\n",
      "Epoch 181/250\n",
      "13/13 [==============================] - 0s 15ms/step - loss: 0.0058 - val_loss: 0.0035\n",
      "Epoch 182/250\n",
      "13/13 [==============================] - 0s 14ms/step - loss: 0.0057 - val_loss: 0.0033\n",
      "Epoch 183/250\n",
      "13/13 [==============================] - 0s 23ms/step - loss: 0.0059 - val_loss: 0.0035\n",
      "Epoch 184/250\n",
      "13/13 [==============================] - 0s 23ms/step - loss: 0.0055 - val_loss: 0.0045\n",
      "Epoch 185/250\n",
      "13/13 [==============================] - 0s 22ms/step - loss: 0.0058 - val_loss: 0.0039\n",
      "Epoch 186/250\n",
      "13/13 [==============================] - 0s 14ms/step - loss: 0.0056 - val_loss: 0.0033\n",
      "Epoch 187/250\n",
      "13/13 [==============================] - 0s 16ms/step - loss: 0.0058 - val_loss: 0.0033\n",
      "Epoch 188/250\n",
      "13/13 [==============================] - 0s 16ms/step - loss: 0.0055 - val_loss: 0.0034\n",
      "Epoch 189/250\n",
      "13/13 [==============================] - 0s 15ms/step - loss: 0.0055 - val_loss: 0.0036\n",
      "Epoch 190/250\n",
      "13/13 [==============================] - 0s 17ms/step - loss: 0.0057 - val_loss: 0.0033\n",
      "Epoch 191/250\n",
      "13/13 [==============================] - 0s 16ms/step - loss: 0.0056 - val_loss: 0.0039\n",
      "Epoch 192/250\n",
      "13/13 [==============================] - 0s 14ms/step - loss: 0.0056 - val_loss: 0.0039\n",
      "Epoch 193/250\n",
      "13/13 [==============================] - 0s 15ms/step - loss: 0.0058 - val_loss: 0.0035\n",
      "Epoch 194/250\n",
      "13/13 [==============================] - 0s 17ms/step - loss: 0.0055 - val_loss: 0.0032\n",
      "Epoch 195/250\n",
      "13/13 [==============================] - 0s 16ms/step - loss: 0.0055 - val_loss: 0.0037\n",
      "Epoch 196/250\n",
      "13/13 [==============================] - 0s 15ms/step - loss: 0.0054 - val_loss: 0.0039\n",
      "Epoch 197/250\n",
      "13/13 [==============================] - 0s 14ms/step - loss: 0.0054 - val_loss: 0.0033\n",
      "Epoch 198/250\n",
      "13/13 [==============================] - 0s 10ms/step - loss: 0.0055 - val_loss: 0.0037\n",
      "Epoch 199/250\n",
      "13/13 [==============================] - 0s 10ms/step - loss: 0.0053 - val_loss: 0.0035\n",
      "Epoch 200/250\n",
      "13/13 [==============================] - 0s 17ms/step - loss: 0.0056 - val_loss: 0.0033\n",
      "Epoch 201/250\n",
      "13/13 [==============================] - 0s 14ms/step - loss: 0.0056 - val_loss: 0.0041\n",
      "Epoch 202/250\n",
      "13/13 [==============================] - 0s 16ms/step - loss: 0.0056 - val_loss: 0.0037\n",
      "Epoch 203/250\n",
      "13/13 [==============================] - 0s 15ms/step - loss: 0.0058 - val_loss: 0.0041\n",
      "Epoch 204/250\n",
      "13/13 [==============================] - 0s 15ms/step - loss: 0.0054 - val_loss: 0.0035\n",
      "Epoch 205/250\n",
      "13/13 [==============================] - 0s 21ms/step - loss: 0.0057 - val_loss: 0.0036\n",
      "Epoch 206/250\n",
      "13/13 [==============================] - 0s 20ms/step - loss: 0.0054 - val_loss: 0.0035\n",
      "Epoch 207/250\n",
      "13/13 [==============================] - 0s 14ms/step - loss: 0.0056 - val_loss: 0.0039\n",
      "Epoch 208/250\n",
      "13/13 [==============================] - 0s 11ms/step - loss: 0.0056 - val_loss: 0.0031\n",
      "Epoch 209/250\n",
      "13/13 [==============================] - 0s 10ms/step - loss: 0.0053 - val_loss: 0.0033\n",
      "Epoch 210/250\n",
      "13/13 [==============================] - 0s 11ms/step - loss: 0.0057 - val_loss: 0.0034\n",
      "Epoch 211/250\n",
      "13/13 [==============================] - 0s 23ms/step - loss: 0.0053 - val_loss: 0.0032\n",
      "Epoch 212/250\n",
      "13/13 [==============================] - 0s 26ms/step - loss: 0.0053 - val_loss: 0.0034\n",
      "Epoch 213/250\n",
      "13/13 [==============================] - 0s 26ms/step - loss: 0.0055 - val_loss: 0.0034\n",
      "Epoch 214/250\n",
      "13/13 [==============================] - 0s 26ms/step - loss: 0.0054 - val_loss: 0.0031\n",
      "Epoch 215/250\n",
      "13/13 [==============================] - 0s 18ms/step - loss: 0.0052 - val_loss: 0.0038\n",
      "Epoch 216/250\n",
      "13/13 [==============================] - 0s 15ms/step - loss: 0.0054 - val_loss: 0.0040\n",
      "Epoch 217/250\n",
      "13/13 [==============================] - 0s 16ms/step - loss: 0.0055 - val_loss: 0.0034\n",
      "Epoch 218/250\n",
      "13/13 [==============================] - 0s 15ms/step - loss: 0.0051 - val_loss: 0.0033\n",
      "Epoch 219/250\n",
      "13/13 [==============================] - 0s 15ms/step - loss: 0.0053 - val_loss: 0.0033\n",
      "Epoch 220/250\n",
      "13/13 [==============================] - 0s 15ms/step - loss: 0.0054 - val_loss: 0.0035\n",
      "Epoch 221/250\n",
      "13/13 [==============================] - 0s 14ms/step - loss: 0.0054 - val_loss: 0.0032\n",
      "Epoch 222/250\n",
      "13/13 [==============================] - 0s 21ms/step - loss: 0.0053 - val_loss: 0.0032\n",
      "Epoch 223/250\n",
      "13/13 [==============================] - 0s 23ms/step - loss: 0.0052 - val_loss: 0.0033\n",
      "Epoch 224/250\n",
      "13/13 [==============================] - 0s 25ms/step - loss: 0.0053 - val_loss: 0.0034\n",
      "Epoch 225/250\n",
      "13/13 [==============================] - 0s 21ms/step - loss: 0.0053 - val_loss: 0.0035\n",
      "Epoch 226/250\n",
      "13/13 [==============================] - 0s 20ms/step - loss: 0.0055 - val_loss: 0.0038\n",
      "Epoch 227/250\n",
      "13/13 [==============================] - 0s 21ms/step - loss: 0.0053 - val_loss: 0.0033\n",
      "Epoch 228/250\n",
      "13/13 [==============================] - 0s 24ms/step - loss: 0.0054 - val_loss: 0.0033\n",
      "Epoch 229/250\n",
      "13/13 [==============================] - 0s 24ms/step - loss: 0.0052 - val_loss: 0.0038\n",
      "Epoch 230/250\n",
      "13/13 [==============================] - 0s 23ms/step - loss: 0.0052 - val_loss: 0.0035\n",
      "Epoch 231/250\n",
      "13/13 [==============================] - 0s 22ms/step - loss: 0.0051 - val_loss: 0.0035\n",
      "Epoch 232/250\n",
      "13/13 [==============================] - 0s 24ms/step - loss: 0.0052 - val_loss: 0.0036\n",
      "Epoch 233/250\n",
      "13/13 [==============================] - 0s 24ms/step - loss: 0.0052 - val_loss: 0.0032\n",
      "Epoch 234/250\n",
      "13/13 [==============================] - 0s 19ms/step - loss: 0.0052 - val_loss: 0.0033\n",
      "Epoch 235/250\n",
      "13/13 [==============================] - 0s 13ms/step - loss: 0.0051 - val_loss: 0.0034\n",
      "Epoch 236/250\n",
      "13/13 [==============================] - 0s 15ms/step - loss: 0.0052 - val_loss: 0.0037\n",
      "Epoch 237/250\n",
      "13/13 [==============================] - 0s 15ms/step - loss: 0.0051 - val_loss: 0.0035\n",
      "Epoch 238/250\n",
      "13/13 [==============================] - 0s 15ms/step - loss: 0.0050 - val_loss: 0.0034\n",
      "Epoch 239/250\n",
      "13/13 [==============================] - 0s 15ms/step - loss: 0.0053 - val_loss: 0.0036\n",
      "Epoch 240/250\n",
      "13/13 [==============================] - 0s 23ms/step - loss: 0.0053 - val_loss: 0.0041\n",
      "Epoch 241/250\n",
      "13/13 [==============================] - 0s 17ms/step - loss: 0.0050 - val_loss: 0.0035\n",
      "Epoch 242/250\n"
     ]
    },
    {
     "name": "stdout",
     "output_type": "stream",
     "text": [
      "13/13 [==============================] - 0s 10ms/step - loss: 0.0054 - val_loss: 0.0033\n",
      "Epoch 243/250\n",
      "13/13 [==============================] - 0s 15ms/step - loss: 0.0053 - val_loss: 0.0033\n",
      "Epoch 244/250\n",
      "13/13 [==============================] - 0s 15ms/step - loss: 0.0051 - val_loss: 0.0031\n",
      "Epoch 245/250\n",
      "13/13 [==============================] - 0s 15ms/step - loss: 0.0054 - val_loss: 0.0033\n",
      "Epoch 246/250\n",
      "13/13 [==============================] - 0s 16ms/step - loss: 0.0051 - val_loss: 0.0032\n",
      "Epoch 247/250\n",
      "13/13 [==============================] - 0s 14ms/step - loss: 0.0051 - val_loss: 0.0033\n",
      "Epoch 248/250\n",
      "13/13 [==============================] - 0s 17ms/step - loss: 0.0052 - val_loss: 0.0032\n",
      "Epoch 249/250\n",
      "13/13 [==============================] - 0s 17ms/step - loss: 0.0050 - val_loss: 0.0035\n",
      "Epoch 250/250\n",
      "13/13 [==============================] - 0s 18ms/step - loss: 0.0052 - val_loss: 0.0033\n"
     ]
    }
   ],
   "source": [
    "model1 = build_lstm_model(\n",
    "    X_train1, output_size=1, neurons=lstm_neurons1, dropout=dropout, loss=loss,\n",
    "    optimizer=optimizer)\n",
    "history1 = model1.fit(\n",
    "    X_train1, y_train1, validation_data=(X_test1, y_test1), epochs=epochs1, batch_size=batch_size, verbose=1, shuffle=True)"
   ]
  },
  {
   "cell_type": "code",
   "execution_count": 103,
   "metadata": {},
   "outputs": [
    {
     "data": {
      "image/png": "[encoded data removed]",
      "text/plain": [
       "<Figure size 432x288 with 1 Axes>"
      ]
     },
     "metadata": {
      "needs_background": "light"
     },
     "output_type": "display_data"
    }
   ],
   "source": [
    "import matplotlib.pyplot as plt\n",
    "plt.plot(history1.history['loss'],'r',linewidth=2, label='Train loss')\n",
    "plt.plot(history1.history['val_loss'], 'g',linewidth=2, label='Validation loss')\n",
    "plt.title('LSTM')\n",
    "plt.xlabel('Epochs')\n",
    "plt.ylabel('MSE')\n",
    "plt.show()"
   ]
  },
  {
   "cell_type": "code",
   "execution_count": 104,
   "metadata": {},
   "outputs": [
    {
     "name": "stdout",
     "output_type": "stream",
     "text": [
      "WARNING:tensorflow:5 out of the last 16 calls to <function Model.make_predict_function.<locals>.predict_function at 0x0000017246F4EC10> triggered tf.function retracing. Tracing is expensive and the excessive number of tracings could be due to (1) creating @tf.function repeatedly in a loop, (2) passing tensors with different shapes, (3) passing Python objects instead of tensors. For (1), please define your @tf.function outside of the loop. For (2), @tf.function has experimental_relax_shapes=True option that relaxes argument shapes that can avoid unnecessary retracing. For (3), please refer to https://www.tensorflow.org/guide/function#controlling_retracing and https://www.tensorflow.org/api_docs/python/tf/function for  more details.\n"
     ]
    },
    {
     "data": {
      "text/plain": [
       "0.04488004433806298"
      ]
     },
     "execution_count": 104,
     "metadata": {},
     "output_type": "execute_result"
    }
   ],
   "source": [
    "targets1 = test1[target_col1][window_len:]\n",
    "preds1 = model1.predict(X_test1).squeeze()\n",
    "mean_absolute_error(preds1, y_test1)"
   ]
  },
  {
   "cell_type": "code",
   "execution_count": 105,
   "metadata": {},
   "outputs": [
    {
     "data": {
      "text/plain": [
       "0.003328542724737023"
      ]
     },
     "execution_count": 105,
     "metadata": {},
     "output_type": "execute_result"
    }
   ],
   "source": [
    "\n",
    "from sklearn.metrics import mean_squared_error\n",
    "MSE=mean_squared_error(preds1, y_test1)\n",
    "MSE\n"
   ]
  },
  {
   "cell_type": "code",
   "execution_count": 106,
   "metadata": {},
   "outputs": [
    {
     "data": {
      "text/plain": [
       "0.05769352411438413"
      ]
     },
     "execution_count": 106,
     "metadata": {},
     "output_type": "execute_result"
    }
   ],
   "source": [
    "import math\n",
    "rmse = math.sqrt(MSE)\n",
    "rmse"
   ]
  },
  {
   "cell_type": "code",
   "execution_count": 107,
   "metadata": {},
   "outputs": [
    {
     "data": {
      "text/plain": [
       "0.8064266659718409"
      ]
     },
     "execution_count": 107,
     "metadata": {},
     "output_type": "execute_result"
    }
   ],
   "source": [
    "from sklearn.metrics import r2_score\n",
    "R2=r2_score(y_test1, preds1)\n",
    "R2"
   ]
  },
  {
   "cell_type": "code",
   "execution_count": 108,
   "metadata": {},
   "outputs": [
    {
     "data": {
      "image/png": "[encoded data removed]",
      "text/plain": [
       "<Figure size 720x360 with 1 Axes>"
      ]
     },
     "metadata": {
      "needs_background": "light"
     },
     "output_type": "display_data"
    }
   ],
   "source": [
    "preds1 = test1[target_col1].values[:-window_len1] * (preds1 + 1)\n",
    "preds1= pd.Series(index=targets1.index, data=preds1)\n",
    "line_plot(targets1, preds1, 'actual', 'prediction', title ='$SOL', lw=3)\n"
   ]
  },
  {
   "cell_type": "code",
   "execution_count": 109,
   "metadata": {},
   "outputs": [],
   "source": [
    "from keras.models import load_model    \n",
    "model.save('Maticmodel.h5')  # creates a HDF5 file 'my_model.h5'\n",
    "del model  # deletes the existing model"
   ]
  },
  {
   "cell_type": "code",
   "execution_count": 110,
   "metadata": {
    "scrolled": true
   },
   "outputs": [],
   "source": [
    "from keras.models import load_model\n",
    "model1.save('Solmodel.h5')  # creates a HDF5 file 'my_model.h5'\n",
    "del model1  # deletes the existing model"
   ]
  },
  {
   "cell_type": "code",
   "execution_count": null,
   "metadata": {},
   "outputs": [],
   "source": []
  },
  {
   "cell_type": "code",
   "execution_count": null,
   "metadata": {},
   "outputs": [],
   "source": []
  }
 ],
 "metadata": {
  "colab": {
   "collapsed_sections": [],
   "name": "price_prediction.ipynb",
   "provenance": []
  },
  "kernelspec": {
   "display_name": "Python 3",
   "language": "python",
   "name": "python3"
  },
  "language_info": {
   "codemirror_mode": {
    "name": "ipython",
    "version": 3
   },
   "file_extension": ".py",
   "mimetype": "text/x-python",
   "name": "python",
   "nbconvert_exporter": "python",
   "pygments_lexer": "ipython3",
   "version": "3.8.3"
  }
 },
 "nbformat": 4,
 "nbformat_minor": 1
}
